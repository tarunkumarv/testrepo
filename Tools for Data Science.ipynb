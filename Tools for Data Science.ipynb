{
  "metadata": {
    "language_info": {
      "name": ""
    },
    "kernelspec": {
      "name": "",
      "display_name": ""
    }
  },
  "nbformat_minor": 4,
  "nbformat": 4,
  "cells": [
    {
      "cell_type": "markdown",
      "source": "My Jupyter Notebook on IBM Watson Studio",
      "metadata": {}
    },
    {
      "cell_type": "markdown",
      "source": "  **V Tarun Kumar**\n  Data Scientist",
      "metadata": {}
    },
    {
      "cell_type": "markdown",
      "source": "*I am interested in data science beacuase it helps in solving real life problems easily*",
      "metadata": {}
    },
    {
      "cell_type": "markdown",
      "source": "# Below code helps to print an output for multipication",
      "metadata": {}
    },
    {
      "cell_type": "code",
      "source": "a=10*20\nprint(a)",
      "metadata": {},
      "execution_count": null,
      "outputs": []
    },
    {
      "cell_type": "code",
      "source": "",
      "metadata": {},
      "execution_count": null,
      "outputs": []
    }
  ]
}